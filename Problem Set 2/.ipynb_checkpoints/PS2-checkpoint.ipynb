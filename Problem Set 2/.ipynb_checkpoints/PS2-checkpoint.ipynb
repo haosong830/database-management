{
 "cells": [
  {
   "cell_type": "code",
   "execution_count": 1,
   "metadata": {},
   "outputs": [
    {
     "data": {
      "text/plain": [
       "u'Connected: @PS2.db'"
      ]
     },
     "execution_count": 1,
     "metadata": {},
     "output_type": "execute_result"
    }
   ],
   "source": [
    "%load_ext sql\n",
    "%sql sqlite:///PS2.db"
   ]
  },
  {
   "cell_type": "markdown",
   "metadata": {},
   "source": [
    "Problem Set #2\n",
    "=======\n",
    "\n",
    "### Deliverables:\n",
    "\n",
    "Submit your answers using the `submission_template.txt` file that is posted on the class website. Follow the instructions on the file! Upload the file at Canvas (under PS2).\n",
    "\n",
    "\n",
    "### Instructions / Notes:\n",
    "\n",
    "**_Read these carefully_**\n",
    "\n",
    "* You **may** create new IPython notebook cells to use for e.g. testing, debugging, exploring, etc.- this is encouraged in fact!- **just make sure that your final answer for each question is _in its own cell_ and _clearly indicated_**\n",
    "* When you see `In [*]:` to the left of the cell you are executing, this means that the code / query is _running_.\n",
    "    * **If the cell is hanging- i.e. running for too long: To restart the SQL connection, you must restart the entire python kernel**\n",
    "    * To restart kernel using the menu bar: \"Kernel >> Restart >> Clear all outputs & restart\"), then re-execute the sql connection cell at top\n",
    "    * You will also need to restart the connection if you want to load a different version of the database file\n",
    "* Remember:\n",
    "    * `%sql [SQL]` is for _single line_ SQL queries\n",
    "    * `%%sql [SQL]` is for _multi line_ SQL queries\n",
    "* _Have fun!_"
   ]
  },
  {
   "cell_type": "markdown",
   "metadata": {},
   "source": [
    "Problem 1: Verifying Functional Dependencies [24 points]\n",
    "---------\n",
    "\n",
    "For this part, you will need to provide a _single_ SQL query which will check whether a certain condition holds on the **hospital** table in the provided database:"
   ]
  },
  {
   "cell_type": "code",
   "execution_count": 2,
   "metadata": {},
   "outputs": [
    {
     "name": "stdout",
     "output_type": "stream",
     "text": [
      " * sqlite:///PS2.db\n",
      "Done.\n"
     ]
    },
    {
     "data": {
      "text/html": [
       "<table>\n",
       "    <tr>\n",
       "        <th>provider</th>\n",
       "        <th>hospital</th>\n",
       "        <th>address</th>\n",
       "        <th>city</th>\n",
       "        <th>state</th>\n",
       "        <th>zip</th>\n",
       "        <th>county</th>\n",
       "        <th>phone_number</th>\n",
       "        <th>hospital_type</th>\n",
       "        <th>hospital_owner</th>\n",
       "        <th>emergency_service</th>\n",
       "        <th>condition</th>\n",
       "        <th>measure_code</th>\n",
       "    </tr>\n",
       "    <tr>\n",
       "        <td>10018</td>\n",
       "        <td>CALLAHAN EYE FOUNDATION HOSPITAL</td>\n",
       "        <td>1720 UNIVERSITY BLVD</td>\n",
       "        <td>BIRMINGHAM</td>\n",
       "        <td>AL</td>\n",
       "        <td>35233</td>\n",
       "        <td>JEFFERSON</td>\n",
       "        <td>2053258100</td>\n",
       "        <td>Acute Care Hospitals</td>\n",
       "        <td>Voluntary non-profit - Private</td>\n",
       "        <td>Yes</td>\n",
       "        <td>Surgical Infection Prevention</td>\n",
       "        <td>SCIP-CARD-2</td>\n",
       "    </tr>\n",
       "    <tr>\n",
       "        <td>10018</td>\n",
       "        <td>CALLAHAN EYE FOUNDATION HOSPITAL</td>\n",
       "        <td>1720 UNIVERSITY BLVD</td>\n",
       "        <td>BIRMINGHAM</td>\n",
       "        <td>AL</td>\n",
       "        <td>35233</td>\n",
       "        <td>JEFFERSON</td>\n",
       "        <td>2053258100</td>\n",
       "        <td>Acute Care Hospitals</td>\n",
       "        <td>Voluntary non-profit - Private</td>\n",
       "        <td>Yes</td>\n",
       "        <td>Surgical Infection Prevention</td>\n",
       "        <td>SCIP-INF-1</td>\n",
       "    </tr>\n",
       "</table>"
      ],
      "text/plain": [
       "[(10018, u'CALLAHAN EYE FOUNDATION HOSPITAL', u'1720 UNIVERSITY BLVD', u'BIRMINGHAM', u'AL', 35233, u'JEFFERSON', 2053258100, u'Acute Care Hospitals', u'Voluntary non-profit - Private', u'Yes', u'Surgical Infection Prevention', u'SCIP-CARD-2'),\n",
       " (10018, u'CALLAHAN EYE FOUNDATION HOSPITAL', u'1720 UNIVERSITY BLVD', u'BIRMINGHAM', u'AL', 35233, u'JEFFERSON', 2053258100, u'Acute Care Hospitals', u'Voluntary non-profit - Private', u'Yes', u'Surgical Infection Prevention', u'SCIP-INF-1')]"
      ]
     },
     "execution_count": 2,
     "metadata": {},
     "output_type": "execute_result"
    }
   ],
   "source": [
    "%sql select * from hospital limit 2;"
   ]
  },
  {
   "cell_type": "markdown",
   "metadata": {},
   "source": [
    "You need to evaluate any requested conditions in the following way: **your query should return an empty result if and only if the condition holds on the instance.**  If the condition _doesn't hold_, your query should return something non-empty, but it doesn't matter what this is.\n",
    "\n",
    "Note our language here: the conditions that we specify cannot be proved to hold **in general** without knowing the externally-defined functional dependencies; so what we mean is, _check whether they **are not violated** for the provided instance_.\n",
    "\n",
    "You may assume that there are no `NULL` values in the tables."
   ]
  },
  {
   "cell_type": "markdown",
   "metadata": {},
   "source": [
    "### Part (a)  [14 points]\n",
    "\n",
    "Is $\\{provider\\}$ a **superkey** for relation $Hospital$?"
   ]
  },
  {
   "cell_type": "code",
   "execution_count": 2,
   "metadata": {},
   "outputs": [
    {
     "name": "stdout",
     "output_type": "stream",
     "text": [
      " * sqlite:///PS2.db\n",
      "Done.\n"
     ]
    },
    {
     "data": {
      "text/html": [
       "<table>\n",
       "    <tr>\n",
       "        <th>provider</th>\n",
       "    </tr>\n",
       "    <tr>\n",
       "        <td>10001</td>\n",
       "    </tr>\n",
       "    <tr>\n",
       "        <td>10005</td>\n",
       "    </tr>\n",
       "    <tr>\n",
       "        <td>10006</td>\n",
       "    </tr>\n",
       "    <tr>\n",
       "        <td>10007</td>\n",
       "    </tr>\n",
       "    <tr>\n",
       "        <td>10008</td>\n",
       "    </tr>\n",
       "    <tr>\n",
       "        <td>10009</td>\n",
       "    </tr>\n",
       "    <tr>\n",
       "        <td>10010</td>\n",
       "    </tr>\n",
       "    <tr>\n",
       "        <td>10011</td>\n",
       "    </tr>\n",
       "    <tr>\n",
       "        <td>10012</td>\n",
       "    </tr>\n",
       "    <tr>\n",
       "        <td>10015</td>\n",
       "    </tr>\n",
       "    <tr>\n",
       "        <td>10016</td>\n",
       "    </tr>\n",
       "    <tr>\n",
       "        <td>10018</td>\n",
       "    </tr>\n",
       "    <tr>\n",
       "        <td>10019</td>\n",
       "    </tr>\n",
       "    <tr>\n",
       "        <td>10021</td>\n",
       "    </tr>\n",
       "    <tr>\n",
       "        <td>10022</td>\n",
       "    </tr>\n",
       "    <tr>\n",
       "        <td>10023</td>\n",
       "    </tr>\n",
       "    <tr>\n",
       "        <td>10024</td>\n",
       "    </tr>\n",
       "    <tr>\n",
       "        <td>10025</td>\n",
       "    </tr>\n",
       "    <tr>\n",
       "        <td>10027</td>\n",
       "    </tr>\n",
       "    <tr>\n",
       "        <td>10029</td>\n",
       "    </tr>\n",
       "    <tr>\n",
       "        <td>10032</td>\n",
       "    </tr>\n",
       "    <tr>\n",
       "        <td>10033</td>\n",
       "    </tr>\n",
       "    <tr>\n",
       "        <td>10034</td>\n",
       "    </tr>\n",
       "    <tr>\n",
       "        <td>10035</td>\n",
       "    </tr>\n",
       "    <tr>\n",
       "        <td>10036</td>\n",
       "    </tr>\n",
       "    <tr>\n",
       "        <td>10038</td>\n",
       "    </tr>\n",
       "    <tr>\n",
       "        <td>10039</td>\n",
       "    </tr>\n",
       "    <tr>\n",
       "        <td>10040</td>\n",
       "    </tr>\n",
       "    <tr>\n",
       "        <td>10043</td>\n",
       "    </tr>\n",
       "    <tr>\n",
       "        <td>10044</td>\n",
       "    </tr>\n",
       "    <tr>\n",
       "        <td>10045</td>\n",
       "    </tr>\n",
       "    <tr>\n",
       "        <td>10046</td>\n",
       "    </tr>\n",
       "    <tr>\n",
       "        <td>10047</td>\n",
       "    </tr>\n",
       "    <tr>\n",
       "        <td>10049</td>\n",
       "    </tr>\n",
       "    <tr>\n",
       "        <td>10050</td>\n",
       "    </tr>\n",
       "    <tr>\n",
       "        <td>10055</td>\n",
       "    </tr>\n",
       "    <tr>\n",
       "        <td>10056</td>\n",
       "    </tr>\n",
       "    <tr>\n",
       "        <td>10086</td>\n",
       "    </tr>\n",
       "    <tr>\n",
       "        <td>10087</td>\n",
       "    </tr>\n",
       "    <tr>\n",
       "        <td>10108</td>\n",
       "    </tr>\n",
       "    <tr>\n",
       "        <td>10158</td>\n",
       "    </tr>\n",
       "    <tr>\n",
       "        <td>10164</td>\n",
       "    </tr>\n",
       "    <tr>\n",
       "        <td>20017</td>\n",
       "    </tr>\n",
       "    <tr>\n",
       "        <td>20018</td>\n",
       "    </tr>\n",
       "</table>"
      ],
      "text/plain": [
       "[(10001,),\n",
       " (10005,),\n",
       " (10006,),\n",
       " (10007,),\n",
       " (10008,),\n",
       " (10009,),\n",
       " (10010,),\n",
       " (10011,),\n",
       " (10012,),\n",
       " (10015,),\n",
       " (10016,),\n",
       " (10018,),\n",
       " (10019,),\n",
       " (10021,),\n",
       " (10022,),\n",
       " (10023,),\n",
       " (10024,),\n",
       " (10025,),\n",
       " (10027,),\n",
       " (10029,),\n",
       " (10032,),\n",
       " (10033,),\n",
       " (10034,),\n",
       " (10035,),\n",
       " (10036,),\n",
       " (10038,),\n",
       " (10039,),\n",
       " (10040,),\n",
       " (10043,),\n",
       " (10044,),\n",
       " (10045,),\n",
       " (10046,),\n",
       " (10047,),\n",
       " (10049,),\n",
       " (10050,),\n",
       " (10055,),\n",
       " (10056,),\n",
       " (10086,),\n",
       " (10087,),\n",
       " (10108,),\n",
       " (10158,),\n",
       " (10164,),\n",
       " (20017,),\n",
       " (20018,)]"
      ]
     },
     "execution_count": 2,
     "metadata": {},
     "output_type": "execute_result"
    }
   ],
   "source": [
    "%sql select provider from hospital group by provider having count(*)>1;"
   ]
  },
  {
   "cell_type": "markdown",
   "metadata": {},
   "source": [
    "### Part (b) [10 points]\n",
    "\n",
    "Does $\\{Zip\\} \\rightarrow \\{City, State\\}$ hold for relation $Hospital$?"
   ]
  },
  {
   "cell_type": "code",
   "execution_count": 40,
   "metadata": {},
   "outputs": [
    {
     "name": "stdout",
     "output_type": "stream",
     "text": [
      " * sqlite:///PS2.db\n",
      "Done.\n"
     ]
    },
    {
     "data": {
      "text/html": [
       "<table>\n",
       "    <tr>\n",
       "        <th>provider</th>\n",
       "        <th>hospital</th>\n",
       "        <th>address</th>\n",
       "        <th>city</th>\n",
       "        <th>state</th>\n",
       "        <th>zip</th>\n",
       "        <th>county</th>\n",
       "        <th>phone_number</th>\n",
       "        <th>hospital_type</th>\n",
       "        <th>hospital_owner</th>\n",
       "        <th>emergency_service</th>\n",
       "        <th>condition</th>\n",
       "        <th>measure_code</th>\n",
       "    </tr>\n",
       "</table>"
      ],
      "text/plain": [
       "[]"
      ]
     },
     "execution_count": 40,
     "metadata": {},
     "output_type": "execute_result"
    }
   ],
   "source": [
    "%sql select * from (select * from hospital group by zip,city) group by zip having count(*)>1 union select * from (select * from hospital group by zip,state) group by zip having count(*)>1;"
   ]
  },
  {
   "cell_type": "markdown",
   "metadata": {},
   "source": [
    "Problem 2: Superkeys & Decompositions [40 points]\n",
    "---------\n",
    "\n",
    "Consider a relation $S(A,B,C,D,E,F)$ with the following functional dependencies:\n",
    "\n",
    "* $\\{A\\} \\rightarrow \\{D\\}$\n",
    "* $\\{A\\} \\rightarrow \\{E\\}$\n",
    "* $\\{D\\} \\rightarrow \\{C\\}$\n",
    "* $\\{D\\} \\rightarrow \\{F\\}$\n",
    "\n",
    "In each part of this problem, we will examine different properties the provided schema.\n",
    "\n",
    "To answer **yes**, provide python code that assigns the variable ```answer``` to ```True``` and assigns ```explanation``` to be a python string which contains a (short!) explanation of why.  For example:\n",
    "\n",
    "```python\n",
    "answer = True\n",
    "explanation = \"All keys are superkeys.\"\n",
    "```\n",
    "\n",
    "To answer **no**, provide python code that assigns the variable ```answer``` to ```False``` and assigns ```explanation``` to be a python string which contains a (short!) explanation of why.  For example:\n",
    "\n",
    "```python\n",
    "answer = False\n",
    "explanation = \"D is not a superkey because its closure is {D,C,F}.\"\n",
    "```"
   ]
  },
  {
   "cell_type": "markdown",
   "metadata": {
    "collapsed": true
   },
   "source": [
    "### Part (a) [8 points]\n",
    "\n",
    "Is it correct that ${A,B}$ is a superkey?"
   ]
  },
  {
   "cell_type": "code",
   "execution_count": 15,
   "metadata": {},
   "outputs": [],
   "source": [
    "answer = True\n",
    "\n",
    "explanation = \"A,B is a superkey because its closure is {A,B,C,D,E,F}\""
   ]
  },
  {
   "cell_type": "markdown",
   "metadata": {},
   "source": [
    "### Part (b) [8 points]\n",
    "\n",
    "Is it correct that the decomposition $ABC$, $CDE$, $EFA$ is lossless-join?"
   ]
  },
  {
   "cell_type": "code",
   "execution_count": null,
   "metadata": {
    "collapsed": true
   },
   "outputs": [],
   "source": [
    "answer = False\n",
    "\n",
    "explanation = \"Because the intersection of the pairs of decomposition don't give a superkey. Ex: C is not a superkey in either ABC or CDE\""
   ]
  },
  {
   "cell_type": "markdown",
   "metadata": {},
   "source": [
    "### Part (c) [8 points]\n",
    "\n",
    "Is it correct that the decomposition $ABC$, $CDE$, $EFA$ is dependency preserving?"
   ]
  },
  {
   "cell_type": "code",
   "execution_count": null,
   "metadata": {
    "collapsed": true
   },
   "outputs": [],
   "source": [
    "answer = False\n",
    "\n",
    "explanation = \"Because {A}->{D} and {D}->{F} are not implied by the decompositions\""
   ]
  },
  {
   "cell_type": "markdown",
   "metadata": {},
   "source": [
    "### Part (d) [8 points]\n",
    "\n",
    "Is the functional dependency $\\{A\\} \\rightarrow \\{C,F\\}$ logically implied by FDs present in the relation?"
   ]
  },
  {
   "cell_type": "code",
   "execution_count": null,
   "metadata": {
    "collapsed": true
   },
   "outputs": [],
   "source": [
    "answer = True\n",
    "\n",
    "explanation = \"Because of the Armstrong's Transitivity Axiom - ({A}->{D}, {D}->{C} and {D}->{F})\""
   ]
  },
  {
   "cell_type": "markdown",
   "metadata": {},
   "source": [
    "### Part (e) [8 points]\n",
    "\n",
    "Is it correct that relation $S$ is in BCNF? "
   ]
  },
  {
   "cell_type": "code",
   "execution_count": 23,
   "metadata": {
    "collapsed": true
   },
   "outputs": [],
   "source": [
    "answer = False\n",
    "\n",
    "explanation = \"Because the left hand side (A & D) of the non-trivial FD's are not superkeys in S\""
   ]
  },
  {
   "cell_type": "markdown",
   "metadata": {},
   "source": [
    "Problem 3: Relational Algebra [36 points]\n",
    "---------\n",
    "\n",
    "Consider the following relational schema:\n",
    "*  `JournalArticle(articleID, title, journal, volume, year, month)`\n",
    "*  `ConferenceArticle(articleID, title, conference, year, location)`\n",
    "*  `Person(name, affiliation)`\n",
    "*  `Author(name, articleID)`\n",
    "\n",
    "Express the following queries in the extended Relational Algebra (you can also use the aggregation operator if necessary). To write the RA expression, use the LaTex mode that ipython notebook provides. For example:\n",
    "\n",
    "$$\\pi_{name}(\\sigma_{affiliation=\"UW-Madison\"}(Person))$$ "
   ]
  },
  {
   "cell_type": "markdown",
   "metadata": {},
   "source": [
    "### Part (a) [9 points]\n",
    "\n",
    "Output the names of everyone who is affiliated with `UW-Madison` and who has submitted during 2018 at least one journal article, but no conference articles:"
   ]
  },
  {
   "cell_type": "markdown",
   "metadata": {},
   "source": [
    "$$ R_{1}  \\leftarrow  \\sigma_{affiliation=\"UW-Madison\"}(Person \\bowtie Author)$$\n",
    "\n",
    "$$ R_{2}  \\leftarrow  \\pi_{name}(\\sigma_{year=\"2018\"} (R_{1} \\bowtie JournalArticle))$$\n",
    "\n",
    "$$ R_{3}  \\leftarrow  \\pi_{name}(\\sigma_{year=\"2018\"} (R_{1} \\bowtie ConferenceArticle))$$\n",
    "\n",
    "$$ R_{4}  \\leftarrow  R_{2} - R_{3}$$\n",
    "\n",
    "$$ R_{1}  \\leftarrow  \\pi_{UserID}(\\sigma_{ReviewCount>=100} Users)$$\n",
    "\n",
    "$$ R_{2}  \\leftarrow  \\pi_{UserID,BusinessID}(\\sigma_{Stars>4} Reviews)$$\n",
    "\n",
    "$$ R_{3}  \\leftarrow  R_{1} \\bowtie R_{2}$$\n",
    "\n",
    "$$ R_{4}  \\leftarrow  \\pi_{BusinessID}(R_{3})$$\n",
    "\n",
    "$$ R_{5}  \\leftarrow  \\pi_{BusinessID,BName}(Businesses)$$\n",
    "\n",
    "$$ R_{6}  \\leftarrow  \\pi_{BName}(R_{4} \\bowtie R_{5})$$\n"
   ]
  },
  {
   "cell_type": "markdown",
   "metadata": {},
   "source": [
    "### Part (b) [9 points]\n",
    "\n",
    "Output the names of the people who coauthored an article (in a journal or conference) with `John Doe`. Be careful: a person cannot be coauthor with herself!"
   ]
  },
  {
   "cell_type": "markdown",
   "metadata": {},
   "source": [
    "$$ R_{1}  \\leftarrow  \\sigma_{name=\"John\\, Doe\"} (Person \\bowtie Author)$$\n",
    "\n",
    "$$ R_{2}  \\leftarrow  \\pi_{articleID}(R_{1} \\bowtie JournalArticle)$$\n",
    "\n",
    "$$ R_{3}  \\leftarrow  \\pi_{articleID}(R_{1} \\bowtie ConferenceArticle)$$\n",
    "\n",
    "$$ R_{4}  \\leftarrow  R_{2} \\cup R_{3}$$\n",
    "\n",
    "$$ R_{5}  \\leftarrow  \\pi_{name}(\\sigma_{name!=\"John\\, Doe\"}(Author \\bowtie R_{4}))$$"
   ]
  },
  {
   "cell_type": "markdown",
   "metadata": {},
   "source": [
    "### Part (c) [9 points]\n",
    "\n",
    "Count how many journal *or* conference articles were published in 2018 by `John Doe`."
   ]
  },
  {
   "cell_type": "markdown",
   "metadata": {},
   "source": [
    "$$ R_{1}  \\leftarrow  \\sigma_{name=\"John\\, Doe\"} (Person \\bowtie Author)$$\n",
    "\n",
    "$$ R_{2}  \\leftarrow  \\pi_{articleID}(\\sigma_{year=\"2018\"} (R_{1} \\bowtie JournalArticle))$$\n",
    "\n",
    "$$ R_{3}  \\leftarrow  \\pi_{articleID}(\\sigma_{year=\"2018\"} (R_{1} \\bowtie ConferenceArticle))$$\n",
    "\n",
    "$$ R_{4}  \\leftarrow  \\gamma_{count(articleID)}(R_{2} \\cup R_{3})$$"
   ]
  },
  {
   "cell_type": "markdown",
   "metadata": {},
   "source": [
    "### Part (d) [9 points]\n",
    "\n",
    "Output the names of everyone who published at least as many conference as journal papers during every year in the span from 2000 to 2018 (including 2000 and 2018). "
   ]
  },
  {
   "cell_type": "markdown",
   "metadata": {},
   "source": [
    "$$ R_{1}  \\leftarrow  Person \\bowtie Author$$\n",
    "\n",
    "$$ R_{2}  \\leftarrow  \\gamma_{name,year,count(articleID)}(\\sigma_{year>=\"2000\" and\\, year<=\"2018\"}\\,\\,\\, (R_{1} \\bowtie ConferenceArticle))$$\n",
    "\n",
    "$$ R_{3}  \\leftarrow  \\rho_{name,year,conferenceCount}(R_{2})$$\n",
    "\n",
    "$$ R_{4}  \\leftarrow  \\gamma_{name,year,count(articleID)}(\\sigma_{year>=\"2000\" and\\, year<=\"2018\"}\\,\\,\\, (R_{1} \\bowtie JournalArticle))$$\n",
    "\n",
    "$$ R_{5}  \\leftarrow  \\rho_{name,year,journalCount}(R_{4})$$\n",
    "\n",
    "$$ R_{6}  \\leftarrow  R_{3} \\bowtie R_{5}$$\n",
    "\n",
    "$$ R_{7}  \\leftarrow  \\pi_{name}(R_{6})  -  \\pi_{name}(\\sigma_{conferenceCount<journalCount}(R_{6}))$$"
   ]
  },
  {
   "cell_type": "code",
   "execution_count": null,
   "metadata": {},
   "outputs": [],
   "source": []
  }
 ],
 "metadata": {
  "kernelspec": {
   "display_name": "Python 2",
   "language": "python",
   "name": "python2"
  },
  "language_info": {
   "codemirror_mode": {
    "name": "ipython",
    "version": 2
   },
   "file_extension": ".py",
   "mimetype": "text/x-python",
   "name": "python",
   "nbconvert_exporter": "python",
   "pygments_lexer": "ipython2",
   "version": "2.7.15"
  }
 },
 "nbformat": 4,
 "nbformat_minor": 1
}
